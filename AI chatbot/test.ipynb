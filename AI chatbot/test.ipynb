{
 "cells": [
  {
   "cell_type": "code",
   "execution_count": 1,
   "metadata": {},
   "outputs": [
    {
     "name": "stdout",
     "output_type": "stream",
     "text": [
      "        question                                         answer\n",
      "0      如何加入CSSA？              你可以关注CSSA的微信公众号，或者在社交平台上联系工作人员报名。\n",
      "1  墨尔本大学有哪些选课建议？                  建议选择自己感兴趣的课程，同时查看课程评分和往年考试难度。\n",
      "2   CSSA会举办哪些活动？                  CSSA定期举办迎新会、联谊活动、学术讲座、求职分享会等。\n",
      "3       墨尔本如何租房？  可以通过Facebook群组、Flatmates、CSSA租房信息群等渠道寻找合适的房源。\n"
     ]
    }
   ],
   "source": [
    "import pandas as pd\n",
    "\n",
    "# 读取 CSV 文件\n",
    "df = pd.read_csv(\"cssa_data.csv\")\n",
    "\n",
    "# 显示前几条数据\n",
    "print(df.head())\n"
   ]
  },
  {
   "cell_type": "code",
   "execution_count": 2,
   "metadata": {},
   "outputs": [
    {
     "name": "stderr",
     "output_type": "stream",
     "text": [
      "d:\\Anaconda3\\envs\\CSSA\\Lib\\site-packages\\tqdm\\auto.py:21: TqdmWarning: IProgress not found. Please update jupyter and ipywidgets. See https://ipywidgets.readthedocs.io/en/stable/user_install.html\n",
      "  from .autonotebook import tqdm as notebook_tqdm\n"
     ]
    },
    {
     "name": "stdout",
     "output_type": "stream",
     "text": [
      "Dataset({\n",
      "    features: ['question', 'answer'],\n",
      "    num_rows: 4\n",
      "})\n"
     ]
    }
   ],
   "source": [
    "from datasets import Dataset\n",
    "\n",
    "# 加载 CSV 数据集\n",
    "dataset = Dataset.from_pandas(df)\n",
    "\n",
    "# 查看数据格式\n",
    "print(dataset)\n"
   ]
  },
  {
   "cell_type": "code",
   "execution_count": null,
   "metadata": {},
   "outputs": [],
   "source": [
    "import os\n",
    "os.environ[\"KMP_DUPLICATE_LIB_OK\"] = \"TRUE\"\n"
   ]
  },
  {
   "cell_type": "code",
   "execution_count": null,
   "metadata": {},
   "outputs": [
    {
     "name": "stdout",
     "output_type": "stream",
     "text": [
      "✅ FAISS 向量索引创建完成！索引大小: 4\n"
     ]
    }
   ],
   "source": [
    "import faiss\n",
    "import numpy as np\n",
    "import pandas as pd\n",
    "import torch\n",
    "import gc\n",
    "from transformers import AutoTokenizer, AutoModel\n",
    "\n",
    "# ✅ 1️⃣ 读取小数据集\n",
    "file_path = os.path.abspath(\"cssa_data.csv\")\n",
    "df = pd.read_csv(file_path)\n",
    "\n",
    "# ✅ 2️⃣ 加载 Transformer 模型（更轻量级）\n",
    "tokenizer = AutoTokenizer.from_pretrained(\"sentence-transformers/paraphrase-MiniLM-L6-v2\")\n",
    "model = AutoModel.from_pretrained(\"sentence-transformers/paraphrase-MiniLM-L6-v2\")\n",
    "\n",
    "# 设置设备（确保只使用 CPU，避免 GPU 相关问题）\n",
    "device = torch.device(\"cpu\")\n",
    "model.to(device)\n",
    "\n",
    "# ✅ 3️⃣ 计算文本嵌入（仅 4 条数据，无需批量处理）\n",
    "def embed_text(text):\n",
    "    if not isinstance(text, str) or len(text.strip()) == 0:\n",
    "        return np.zeros((384,), dtype=np.float32)  # 返回固定维度的零向量\n",
    "\n",
    "    inputs = tokenizer(text, return_tensors=\"pt\", padding=True, truncation=True, max_length=32).to(device)\n",
    "\n",
    "    with torch.no_grad():  \n",
    "        output = model(**inputs)\n",
    "\n",
    "    return output.last_hidden_state.mean(dim=1).cpu().numpy().flatten().astype(np.float32)  # 保证是 (384,)\n",
    "\n",
    "# ✅ 4️⃣ 创建 FAISS 索引\n",
    "dimension = 384\n",
    "index = faiss.IndexFlatL2(dimension)\n",
    "\n",
    "# ✅ 5️⃣ 计算 4 条数据的向量，并存入 FAISS\n",
    "question_vectors = np.array([embed_text(q) for q in df[\"question\"]], dtype=np.float32)\n",
    "index.add(question_vectors)  \n",
    "\n",
    "print(f\"✅ FAISS 向量索引创建完成！索引大小: {index.ntotal}\")\n",
    "\n",
    "# ✅ 6️⃣ 释放 Python 内存，防止 Jupyter 内核崩溃\n",
    "gc.collect()\n",
    "torch.cuda.empty_cache()\n"
   ]
  },
  {
   "cell_type": "code",
   "execution_count": 10,
   "metadata": {},
   "outputs": [],
   "source": [
    "\n",
    "# ✅ 7️⃣ 定义一个检索函数\n",
    "def retrieve_answer(user_query):\n",
    "    if index.ntotal == 0:\n",
    "        return \"❌ 错误: FAISS 索引为空，无法查询答案！\"\n",
    "\n",
    "    query_vector = embed_text(user_query).reshape(1, -1).astype(np.float32)  # 转换 float32\n",
    "    distances, indices = index.search(query_vector, k=1)  \n",
    "\n",
    "    if indices[0][0] == -1:\n",
    "        return \"❌ 错误: 找不到匹配的答案！\"\n",
    "\n",
    "    best_match = df.iloc[indices[0][0]]  \n",
    "    return best_match[\"answer\"]\n"
   ]
  },
  {
   "cell_type": "code",
   "execution_count": 12,
   "metadata": {},
   "outputs": [
    {
     "name": "stdout",
     "output_type": "stream",
     "text": [
      "🔍 查询: CSSA是什么\n",
      "📌 最佳匹配答案: 你可以关注CSSA的微信公众号，或者在社交平台上联系工作人员报名。\n"
     ]
    }
   ],
   "source": [
    "\n",
    "# ✅ 8️⃣ 测试查询\n",
    "query = \"CSSA是什么\"\n",
    "response = retrieve_answer(query)\n",
    "print(f\"🔍 查询: {query}\\n📌 最佳匹配答案: {response}\")\n"
   ]
  }
 ],
 "metadata": {
  "kernelspec": {
   "display_name": "Python 3",
   "language": "python",
   "name": "python3"
  },
  "language_info": {
   "codemirror_mode": {
    "name": "ipython",
    "version": 3
   },
   "file_extension": ".py",
   "mimetype": "text/x-python",
   "name": "python",
   "nbconvert_exporter": "python",
   "pygments_lexer": "ipython3",
   "version": "3.12.9"
  }
 },
 "nbformat": 4,
 "nbformat_minor": 2
}
