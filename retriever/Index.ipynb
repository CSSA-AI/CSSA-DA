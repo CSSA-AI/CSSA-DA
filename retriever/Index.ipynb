{
 "cells": [
  {
   "cell_type": "markdown",
   "metadata": {},
   "source": [
    "# Index Construction"
   ]
  },
  {
   "cell_type": "code",
   "execution_count": 7,
   "metadata": {},
   "outputs": [],
   "source": [
    "import pandas\n",
    "import torch\n",
    "import faiss"
   ]
  },
  {
   "cell_type": "code",
   "execution_count": 12,
   "metadata": {},
   "outputs": [],
   "source": [
    "def build_faiss_index(vector_file=\"qa_tensors_bert.pt\", output_index=\"qa_faiss_index_bert.index\"):\n",
    "    \"\"\"\n",
    "    Build a FAISS index from saved question embeddings and save it to disk.\n",
    "    \"\"\"\n",
    "    # Load the saved vectors (PyTorch tensor)\n",
    "    vectors = torch.load(vector_file)\n",
    "    vectors = vectors.numpy().astype(\"float32\")  # Convert to float32 (FAISS requires this)\n",
    "\n",
    "    # Get the embedding dimension\n",
    "    dim = vectors.shape[1]\n",
    "\n",
    "    # Create FAISS index (L2 distance metric)\n",
    "    index = faiss.IndexFlatL2(dim)\n",
    "\n",
    "    # Add all vectors to the index\n",
    "    index.add(vectors)\n",
    "    print(f\"Indexed {vectors.shape[0]} vectors with dimension {dim}\")\n",
    "\n",
    "    # Save the index to disk\n",
    "    faiss.write_index(index, output_index)\n",
    "    print(f\"FAISS index saved to {output_index}\")\n",
    "\n",
    "    return index\n"
   ]
  },
  {
   "cell_type": "code",
   "execution_count": 13,
   "metadata": {},
   "outputs": [
    {
     "name": "stdout",
     "output_type": "stream",
     "text": [
      "Indexed 221 vectors with dimension 768\n",
      "FAISS index saved to ../retriever/qa_faiss_index_bert.index\n",
      "Top 5 results: [[ 0 20  6 61 21]] [[  0.      128.62082 135.5927  138.56033 145.50655]]\n"
     ]
    }
   ],
   "source": [
    "if __name__ == \"__main__\":\n",
    "    # Build the FAISS index from question embeddings\n",
    "    index = build_faiss_index(\"../retriever/qa_tensors_bert.pt\", \"../retriever/qa_faiss_index_bert.index\")\n",
    "\n",
    "    # Test search: query the first vector and retrieve the top-5 nearest neighbors\n",
    "    query_vector = index.reconstruct(0).reshape(1, -1)  \n",
    "    distances, indices = index.search(query_vector, k=5)\n",
    "    print(\"Top 5 results:\", indices, distances)"
   ]
  },
  {
   "cell_type": "code",
   "execution_count": 18,
   "metadata": {},
   "outputs": [],
   "source": [
    "def build_faiss_index(vector_file=\"qa_tensors_trans.pt\", output_index=\"qa_faiss_index_trans.index\"):\n",
    "    \"\"\"\n",
    "    Build a FAISS index from saved question embeddings and save it to disk.\n",
    "    \"\"\"\n",
    "    # Load the saved vectors (PyTorch tensor)\n",
    "    vectors = torch.load(vector_file)\n",
    "    vectors = vectors.cpu().numpy().astype(\"float32\")  # Convert to float32 (FAISS requires this)\n",
    "\n",
    "    # Get the embedding dimension\n",
    "    dim = vectors.shape[1]\n",
    "\n",
    "    # Create FAISS index (L2 distance metric)\n",
    "    index = faiss.IndexFlatL2(dim)\n",
    "\n",
    "    # Add all vectors to the index\n",
    "    index.add(vectors)\n",
    "    print(f\"Indexed {vectors.shape[0]} vectors with dimension {dim}\")\n",
    "\n",
    "    # Save the index to disk\n",
    "    faiss.write_index(index, output_index)\n",
    "    print(f\"FAISS index saved to {output_index}\")\n",
    "\n",
    "    return index\n"
   ]
  },
  {
   "cell_type": "code",
   "execution_count": 19,
   "metadata": {},
   "outputs": [
    {
     "name": "stdout",
     "output_type": "stream",
     "text": [
      "Indexed 221 vectors with dimension 384\n",
      "FAISS index saved to ../retriever/qa_faiss_index_trans.index\n",
      "Top 5 results: [[ 0  6 10  1 11]] [[0.        6.026917  7.7131157 7.92223   9.683939 ]]\n"
     ]
    }
   ],
   "source": [
    "if __name__ == \"__main__\":\n",
    "    # Build the FAISS index from question embeddings\n",
    "    index = build_faiss_index(\"../retriever/qa_tensors_trans.pt\", \"../retriever/qa_faiss_index_trans.index\")\n",
    "\n",
    "    # Test search: query the first vector and retrieve the top-5 nearest neighbors\n",
    "    query_vector = index.reconstruct(0).reshape(1, -1)  \n",
    "    distances, indices = index.search(query_vector, k=5)\n",
    "    print(\"Top 5 results:\", indices, distances)"
   ]
  }
 ],
 "metadata": {
  "kernelspec": {
   "display_name": "cssa-ai",
   "language": "python",
   "name": "python3"
  },
  "language_info": {
   "codemirror_mode": {
    "name": "ipython",
    "version": 3
   },
   "file_extension": ".py",
   "mimetype": "text/x-python",
   "name": "python",
   "nbconvert_exporter": "python",
   "pygments_lexer": "ipython3",
   "version": "3.11.12"
  }
 },
 "nbformat": 4,
 "nbformat_minor": 2
}
