{
 "cells": [
  {
   "cell_type": "markdown",
   "metadata": {},
   "source": [
    "# Vectorization"
   ]
  },
  {
   "cell_type": "code",
   "execution_count": 37,
   "metadata": {},
   "outputs": [],
   "source": [
    "import json\n",
    "import torch\n",
    "import os\n",
    "from transformers import BertTokenizer, BertModel\n",
    "from sentence_transformers import SentenceTransformer"
   ]
  },
  {
   "cell_type": "code",
   "execution_count": 38,
   "metadata": {},
   "outputs": [
    {
     "name": "stdout",
     "output_type": "stream",
     "text": [
      "Number of records: 221\n",
      "[{'id': '00001', 'question': '墨尔本的公共交通系统包括哪些交通工具', 'answer': '火车电车巴士出租车', 'source': '维多利亚州政府', 'link': 'httpsliveinmelbourne.vic.gov.auzh-cnlivegetting-aroundpublic-transport', 'tags': ['交通'], 'creator': 'mengyue', 'created_at': '2025-03-25'}, {'id': '00002', 'question': '墨尔本交通指南', 'answer': '通用交通自驾游旅游观光', 'source': '澳大利亚旅游局', 'link': 'httpswww.australia.cnzh-cnplacesmelbourne-and-surroundsgetting-around-melbourne.html', 'tags': ['交通'], 'creator': 'mengyue', 'created_at': '2025-03-25'}]\n"
     ]
    }
   ],
   "source": [
    "with open(\"../data/qa_clean_data.json\", \"r\", encoding=\"utf-8\") as f:\n",
    "    data = json.load(f)\n",
    "\n",
    "print(f\"Number of records: {len(data)}\")\n",
    "\n",
    "print(data[:2])"
   ]
  },
  {
   "cell_type": "markdown",
   "metadata": {},
   "source": [
    "## Bert-base-chinese"
   ]
  },
  {
   "cell_type": "code",
   "execution_count": 39,
   "metadata": {},
   "outputs": [],
   "source": [
    "def vectorize_questions_bert(\n",
    "    json_file=\"../data/qa_clean_data.json\", \n",
    "    output_file=\"../retriever/qa_tensors_bert.pt\", \n",
    "    model_name=\"bert-base-chinese\"\n",
    "):\n",
    "    # Load data\n",
    "    with open(json_file, \"r\", encoding=\"utf-8\") as f:\n",
    "        data = json.load(f)\n",
    "    questions = [item[\"question\"] for item in data]\n",
    "\n",
    "    # Load Chinese BERT tokenizer & model\n",
    "    tokenizer = BertTokenizer.from_pretrained(model_name)\n",
    "    model = BertModel.from_pretrained(model_name)\n",
    "    model.eval()\n",
    "\n",
    "    embeddings = []\n",
    "    batch_size = 16\n",
    "    for i in range(0, len(questions), batch_size):\n",
    "        batch = questions[i:i+batch_size]\n",
    "        encoded = tokenizer(\n",
    "            batch, \n",
    "            padding=True, \n",
    "            truncation=True, \n",
    "            max_length=64, \n",
    "            return_tensors=\"pt\"\n",
    "        )\n",
    "        with torch.no_grad():\n",
    "            outputs = model(**encoded)\n",
    "        # Take [CLS] embedding for each question\n",
    "        batch_vecs = outputs.last_hidden_state[:, 0, :]\n",
    "        embeddings.append(batch_vecs)\n",
    "\n",
    "    # Concatenate all embeddings\n",
    "    all_vecs = torch.cat(embeddings, dim=0)\n",
    "\n",
    "    # Save to retriever\n",
    "    os.makedirs(os.path.dirname(output_file), exist_ok=True)\n",
    "    torch.save(all_vecs, output_file)\n",
    "\n",
    "    print(f\"Saved {len(questions)} question embeddings to: {output_file}, shape={all_vecs.shape}\")\n",
    "    return embeddings"
   ]
  },
  {
   "cell_type": "code",
   "execution_count": 40,
   "metadata": {},
   "outputs": [
    {
     "name": "stdout",
     "output_type": "stream",
     "text": [
      "Saved 221 question embeddings to: ../retriever/qa_tensors_bert.pt, shape=torch.Size([221, 768])\n"
     ]
    }
   ],
   "source": [
    "if __name__ == \"__main__\":\n",
    "    vectorize_questions_bert()"
   ]
  },
  {
   "cell_type": "code",
   "execution_count": 41,
   "metadata": {},
   "outputs": [
    {
     "name": "stdout",
     "output_type": "stream",
     "text": [
      "<class 'torch.Tensor'>\n",
      "torch.Size([221, 768])\n",
      "tensor([-0.0697,  0.4000, -0.7653, -0.0790,  0.5335, -0.5587,  0.0885, -0.6943,\n",
      "        -0.0871,  0.1190])\n"
     ]
    }
   ],
   "source": [
    "# Load the saved tensor for testing\n",
    "vecs = torch.load(\"../retriever/qa_tensors_bert.pt\")\n",
    "\n",
    "print(type(vecs))        \n",
    "print(vecs.shape)        \n",
    "print(vecs[0][:10]) "
   ]
  },
  {
   "cell_type": "markdown",
   "metadata": {},
   "source": [
    "## Sentence-transformers"
   ]
  },
  {
   "cell_type": "code",
   "execution_count": 42,
   "metadata": {},
   "outputs": [],
   "source": [
    "def vectorize_questions_trans(\n",
    "    json_file=\"../data/qa_clean_data.json\", \n",
    "    output_file=\"../retriever/qa_tensors_trans.pt\", \n",
    "    model_name=\"sentence-transformers/paraphrase-multilingual-MiniLM-L12-v2\"\n",
    "):\n",
    "    # Load dataset\n",
    "    with open(json_file, \"r\", encoding=\"utf-8\") as f:\n",
    "        data = json.load(f)\n",
    "    questions = [item[\"question\"] for item in data]\n",
    "\n",
    "    # Load sentence-transformer model\n",
    "    model = SentenceTransformer(model_name)\n",
    "\n",
    "    # Encode all questions\n",
    "    embeddings = model.encode(\n",
    "        questions,\n",
    "        batch_size=32,\n",
    "        convert_to_tensor=True,\n",
    "        show_progress_bar=True\n",
    "    )\n",
    "    \n",
    "    # Save embeddings\n",
    "    os.makedirs(os.path.dirname(output_file), exist_ok=True)\n",
    "    torch.save(embeddings, output_file)\n",
    "\n",
    "    print(f\"Saved {len(questions)} embeddings to {output_file}, shape={embeddings.shape}\")\n",
    "    return embeddings"
   ]
  },
  {
   "cell_type": "code",
   "execution_count": 43,
   "metadata": {},
   "outputs": [
    {
     "data": {
      "application/vnd.jupyter.widget-view+json": {
       "model_id": "d101d4c519a84a1a96223ff6eb0412ff",
       "version_major": 2,
       "version_minor": 0
      },
      "text/plain": [
       "Batches:   0%|          | 0/7 [00:00<?, ?it/s]"
      ]
     },
     "metadata": {},
     "output_type": "display_data"
    },
    {
     "name": "stdout",
     "output_type": "stream",
     "text": [
      "Saved 221 embeddings to ../retriever/qa_tensors_trans.pt, shape=torch.Size([221, 384])\n"
     ]
    }
   ],
   "source": [
    "if __name__ == \"__main__\":\n",
    "    vectorize_questions_trans()"
   ]
  },
  {
   "cell_type": "code",
   "execution_count": 44,
   "metadata": {},
   "outputs": [
    {
     "name": "stdout",
     "output_type": "stream",
     "text": [
      "<class 'torch.Tensor'>\n",
      "torch.Size([221, 384])\n",
      "tensor([ 0.5112, -0.6336, -0.0050,  0.0788,  0.1777,  0.3748,  0.1842,  0.0313,\n",
      "        -0.4515,  0.4147], device='mps:0')\n"
     ]
    }
   ],
   "source": [
    "# Load the saved embeddings generated by sentence-transformers\n",
    "vecs = torch.load(\"../retriever/qa_tensors_trans.pt\")\n",
    "\n",
    "print(type(vecs))       \n",
    "print(vecs.shape)        \n",
    "print(vecs[0][:10])      "
   ]
  }
 ],
 "metadata": {
  "kernelspec": {
   "display_name": "cssa-ai",
   "language": "python",
   "name": "python3"
  },
  "language_info": {
   "codemirror_mode": {
    "name": "ipython",
    "version": 3
   },
   "file_extension": ".py",
   "mimetype": "text/x-python",
   "name": "python",
   "nbconvert_exporter": "python",
   "pygments_lexer": "ipython3",
   "version": "3.11.12"
  }
 },
 "nbformat": 4,
 "nbformat_minor": 2
}
