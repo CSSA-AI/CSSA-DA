{
 "cells": [
  {
   "cell_type": "markdown",
   "id": "17f7f834",
   "metadata": {},
   "source": [
    "# Search API"
   ]
  },
  {
   "cell_type": "markdown",
   "id": "2ce5d292",
   "metadata": {},
   "source": [
    "## Import dependencies & config"
   ]
  },
  {
   "cell_type": "code",
   "execution_count": 12,
   "id": "993ad9fa",
   "metadata": {},
   "outputs": [],
   "source": [
    "import json\n",
    "import faiss\n",
    "import numpy as np\n",
    "from sentence_transformers import SentenceTransformer\n",
    "\n",
    "INDEX_PATH = \"qa_faiss_index_trans.index\"\n",
    "IDMAP_PATH = \"id_mapping.json\"\n",
    "MODEL_NAME = \"paraphrase-multilingual-MiniLM-L12-v2\""
   ]
  },
  {
   "cell_type": "markdown",
   "id": "f66a2a7e",
   "metadata": {},
   "source": [
    "## Define Retriever class"
   ]
  },
  {
   "cell_type": "code",
   "execution_count": 14,
   "id": "5fb98002",
   "metadata": {},
   "outputs": [],
   "source": [
    "class Retriever:\n",
    "    def __init__(self, index_path=INDEX_PATH, id_map_path=IDMAP_PATH, model_name=MODEL_NAME):\n",
    "        \"\"\"\n",
    "        Initialize Retriever:\n",
    "        - Load the SentenceTransformer model\n",
    "        - Load the FAISS index\n",
    "        - Load the id_map (index ID -> original entry mapping)\n",
    "        \"\"\"\n",
    "        self.model = SentenceTransformer(model_name)\n",
    "        self.index = faiss.read_index(index_path)\n",
    "        with open(id_map_path, \"r\", encoding=\"utf-8\") as f:\n",
    "            self.id_map = json.load(f)\n",
    "        self.dim = self.index.d\n",
    "\n",
    "    def _encode_query(self, query: str) -> np.ndarray:\n",
    "        \"\"\"\n",
    "        Encode the query into a vector representation.\n",
    "        - Use the same model as used to build the index\n",
    "        - Normalize embeddings so that cosine similarity works properly\n",
    "        \"\"\"\n",
    "        vec = self.model.encode([query], normalize_embeddings=True, convert_to_numpy=True).astype(\"float32\")\n",
    "        return vec\n",
    "\n",
    "    def search(self, query: str, k: int = 5):\n",
    "        \"\"\"\n",
    "        Search the most similar Top-K entries for the input query.\n",
    "        Steps:\n",
    "        - Encode query\n",
    "        - Run FAISS search\n",
    "        - Map back the top results using id_map\n",
    "        Returns:\n",
    "        - List of dictionaries with rank, score, question, answer, source, link\n",
    "        \"\"\"\n",
    "        qvec = self._encode_query(query)\n",
    "        D, I = self.index.search(qvec, k)  # D = distances/scores, I = indices\n",
    "        results = []\n",
    "        for rank, (idx, score) in enumerate(zip(I[0], D[0]), start=1):\n",
    "            item = self.id_map.get(str(idx), {})\n",
    "            results.append({\n",
    "                \"rank\": rank,\n",
    "                \"score\": float(score),\n",
    "                \"question\": item.get(\"question\", \"\"),\n",
    "                \"answer\": item.get(\"answer\", \"\"),\n",
    "                \"source\": item.get(\"source\", \"\"),\n",
    "                \"link\": item.get(\"link\", \"\")\n",
    "            })\n",
    "        return results\n"
   ]
  },
  {
   "cell_type": "markdown",
   "id": "965f7451",
   "metadata": {},
   "source": [
    "## Test case"
   ]
  },
  {
   "cell_type": "code",
   "execution_count": 18,
   "id": "819d66f1",
   "metadata": {},
   "outputs": [
    {
     "name": "stdout",
     "output_type": "stream",
     "text": [
      "[1] score=6.3013\n",
      "A: 墨尔本密室逃脱\n",
      "Source: Tripadvisor\n",
      "Link: httpscn.tripadvisor.comAttractions-g255100-Activities-c56-t208-Melbourne_Victoria.html\n",
      "--------------------------------------------------\n",
      "[2] score=6.7289\n",
      "A: \n",
      "Source: 搜狐\n",
      "Link: httpswww.sohu.coma816084395_121124027\n",
      "--------------------------------------------------\n",
      "[3] score=6.9468\n",
      "A: 墨尔本射击场\n",
      "Source: 亿忆\n",
      "Link: httpswww.yeeyi.comnewsdetails306347\n",
      "--------------------------------------------------\n"
     ]
    }
   ],
   "source": [
    "retriever = Retriever()\n",
    "\n",
    "query = \"墨尔本七夕节去哪里玩\"\n",
    "results = retriever.search(query, k=3)\n",
    "\n",
    "for r in results:\n",
    "    print(f\"[{r['rank']}] score={r['score']:.4f}\")\n",
    "    print(\"A:\", r['answer'])\n",
    "    print(\"Source:\", r['source'])\n",
    "    print(\"Link:\", r['link'])\n",
    "    print(\"-\" * 50)"
   ]
  },
  {
   "cell_type": "code",
   "execution_count": null,
   "id": "02960df3",
   "metadata": {},
   "outputs": [],
   "source": []
  }
 ],
 "metadata": {
  "kernelspec": {
   "display_name": "cssa-ai",
   "language": "python",
   "name": "python3"
  },
  "language_info": {
   "codemirror_mode": {
    "name": "ipython",
    "version": 3
   },
   "file_extension": ".py",
   "mimetype": "text/x-python",
   "name": "python",
   "nbconvert_exporter": "python",
   "pygments_lexer": "ipython3",
   "version": "3.11.12"
  }
 },
 "nbformat": 4,
 "nbformat_minor": 5
}
